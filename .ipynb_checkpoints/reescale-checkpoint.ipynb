{
 "cells": [
  {
   "cell_type": "code",
   "execution_count": 2,
   "metadata": {},
   "outputs": [],
   "source": [
    "import os\n",
    "from PIL import Image"
   ]
  },
  {
   "cell_type": "code",
   "execution_count": 3,
   "metadata": {},
   "outputs": [],
   "source": [
    "# Diretório atual e novo diretório para as imagens reescaladas\n",
    "diretorio_atual = \"./\"\n",
    "novo_diretorio = os.path.join(diretorio_atual, \"reescaled_images\")\n",
    "\n",
    "# Cria o novo diretório se ele não existir\n",
    "os.makedirs(novo_diretorio, exist_ok=True)"
   ]
  },
  {
   "cell_type": "code",
   "execution_count": 4,
   "metadata": {},
   "outputs": [
    {
     "name": "stdout",
     "output_type": "stream",
     "text": [
      "Imagem 'J110154.1-060232.0_RCSLenS_CDE1111H4_20asec.png' redimensionada e salva em './reescaled_images'.\n",
      "Imagem 'J005602.5+030054.7_RCSLenS_CDE0047C7_20asec.png' redimensionada e salva em './reescaled_images'.\n",
      "Imagem 'J012042.3-514352.8_DES_DES0120-5123_r4907p01_20asec.png' redimensionada e salva em './reescaled_images'.\n",
      "Imagem 'J220642.0+041130.7_CFHTLenS_W4m2p3_20asec.png' redimensionada e salva em './reescaled_images'.\n",
      "Imagem 'J021806.4-050325.0_CFHTLenS_W1m0p2_20asec.png' redimensionada e salva em './reescaled_images'.\n",
      "Imagem 'J023330.1-065142.6_CFHTLenS_W1p4m0_20asec.png' redimensionada e salva em './reescaled_images'.\n",
      "Imagem 'J222315.4-004151.5_S82m24m_y.V2.7A.swarp.cut.png' redimensionada e salva em './reescaled_images'.\n",
      "Imagem 'J142620.9+561356.3_CFHTLenS_W3p1p2_20asec.png' redimensionada e salva em './reescaled_images'.\n",
      "Imagem 'J013258.9+012126.9_RCSLenS_CDE0133D4_20asec.png' redimensionada e salva em './reescaled_images'.\n",
      "Imagem 'J012900.1+000709.5_S82p25p_y.V2.7A.swarp.cut.png' redimensionada e salva em './reescaled_images'.\n",
      "Imagem 'J023039.0-050012.9_CFHTLenS_W1p3p2_20asec.png' redimensionada e salva em './reescaled_images'.\n",
      "Imagem 'J141912.1+532611.7_CFHTLenS_W3m0m1_20asec.png' redimensionada e salva em './reescaled_images'.\n",
      "Imagem 'J022655.8-050739.4_CFHTLenS_W1p2p2_20asec.png' redimensionada e salva em './reescaled_images'.\n",
      "Imagem 'J115252.3+004733.1_HSC_pdr3_wide_20asec.png' redimensionada e salva em './reescaled_images'.\n",
      "Imagem 'J213615.9-005646.0_RCSLenS_CDE2143G3_20asec.png' redimensionada e salva em './reescaled_images'.\n",
      "Imagem 'J212510.7+041131.6_RCSLenS_CDE2143J8_20asec.png' redimensionada e salva em './reescaled_images'.\n",
      "Imagem 'J010826.8-000815.5_S82p16m_y.V2.7A.swarp.cut.png' redimensionada e salva em './reescaled_images'.\n",
      "Todas as imagens foram processadas!\n"
     ]
    }
   ],
   "source": [
    "# Percorre todos os arquivos no diretório atual\n",
    "for arquivo in os.listdir(diretorio_atual):\n",
    "    caminho_completo = os.path.join(diretorio_atual, arquivo)\n",
    "    \n",
    "    # Verifica se o arquivo é uma imagem\n",
    "    if os.path.isfile(caminho_completo) and arquivo.lower().endswith((\".png\", \".jpg\", \".jpeg\", \".bmp\", \".gif\", \".tiff\")):\n",
    "        try:\n",
    "            # Abre a imagem\n",
    "            with Image.open(caminho_completo) as img:\n",
    "                # Redimensiona a imagem para 400x400\n",
    "                novo_tamanho = (400, 400)\n",
    "                img_redimensionada = img.resize(novo_tamanho)\n",
    "                \n",
    "                # Salva a imagem redimensionada no novo diretório\n",
    "                novo_caminho = os.path.join(novo_diretorio, arquivo)\n",
    "                img_redimensionada.save(novo_caminho)\n",
    "                \n",
    "                print(f\"Imagem '{arquivo}' redimensionada e salva em '{novo_diretorio}'.\")\n",
    "        except Exception as e:\n",
    "            print(f\"Erro ao processar a imagem '{arquivo}': {e}\")\n",
    "\n",
    "print(\"Todas as imagens foram processadas!\")"
   ]
  },
  {
   "cell_type": "code",
   "execution_count": null,
   "metadata": {},
   "outputs": [],
   "source": []
  }
 ],
 "metadata": {
  "kernelspec": {
   "display_name": "Python 3 (ipykernel)",
   "language": "python",
   "name": "python3"
  },
  "language_info": {
   "codemirror_mode": {
    "name": "ipython",
    "version": 3
   },
   "file_extension": ".py",
   "mimetype": "text/x-python",
   "name": "python",
   "nbconvert_exporter": "python",
   "pygments_lexer": "ipython3",
   "version": "3.12.4"
  }
 },
 "nbformat": 4,
 "nbformat_minor": 4
}
